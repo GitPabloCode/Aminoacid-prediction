{
 "cells": [
  {
   "cell_type": "code",
   "execution_count": 2,
   "metadata": {},
   "outputs": [],
   "source": [
    "import os\n",
    "import torch\n",
    "import torch.nn as nn\n",
    "import torch.optim as optim\n",
    "from tqdm import tqdm  \n",
    "from utils import *\n",
    "from models import *\n",
    "\n",
    "device = torch.device(\"cuda\" if torch.cuda.is_available() else \"cpu\")"
   ]
  },
  {
   "cell_type": "code",
   "execution_count": 3,
   "metadata": {},
   "outputs": [
    {
     "name": "stderr",
     "output_type": "stream",
     "text": [
      "Creazione batch: 100%|██████████| 21875/21875 [05:03<00:00, 72.09 batch/s]\n"
     ]
    }
   ],
   "source": [
    "if os.path.exists(\"test_batches.pt\"):\n",
    "    batches = torch.load(\"test_batches.pt\")\n",
    "else:\n",
    "    batches = create_batches(\"test_sequences.txt\", 64)\n",
    "    torch.save(batches, \"test_batches.pt\")\n",
    "\n",
    "vocab_size = 26\n",
    "embedding_size = 10\n",
    "hidden_size = 64\n",
    "criterion = nn.NLLLoss()"
   ]
  },
  {
   "cell_type": "code",
   "execution_count": 4,
   "metadata": {},
   "outputs": [
    {
     "name": "stderr",
     "output_type": "stream",
     "text": [
      "100%|██████████| 21875/21875 [02:22<00:00, 153.40it/s, loss=0.733]"
     ]
    },
    {
     "name": "stdout",
     "output_type": "stream",
     "text": [
      "Average Loss: 0.7920521784755162\n"
     ]
    },
    {
     "name": "stderr",
     "output_type": "stream",
     "text": [
      "\n"
     ]
    }
   ],
   "source": [
    "path = \"LSTM_weights.pth\"\n",
    "model = LSTM(vocab_size, embedding_size, hidden_size).to(device)\n",
    "model.load_state_dict(torch.load(path))\n",
    "\n",
    "total_loss = 0\n",
    "\n",
    "input_sequences = []\n",
    "predictions = []\n",
    "count = 0\n",
    "\n",
    "with torch.no_grad():\n",
    "    with tqdm(batches) as tqdm_iterator:\n",
    "        for sequences in tqdm_iterator:\n",
    "            sequences = sequences.to(device)\n",
    "            output, _ = model(sequences)\n",
    "            output = output.permute(0, 2, 1)\n",
    "            loss = criterion(output[:, :, :-1], sequences[:, 1:])\n",
    "            if count < 10:\n",
    "                  input_sequences.append(sequences.detach().cpu().numpy())\n",
    "                  predictions.append(output.argmax(dim=1).detach().cpu().numpy())\n",
    "\n",
    "            total_loss += loss.item()\n",
    "            count += 1\n",
    "\n",
    "            tqdm_iterator.set_postfix({\"loss\": loss.item()})\n",
    "    \n",
    "    avg_loss_Lstm = total_loss/len(batches)\n",
    "    print(f'Average Loss: {avg_loss_Lstm}')"
   ]
  },
  {
   "cell_type": "code",
   "execution_count": 5,
   "metadata": {},
   "outputs": [
    {
     "name": "stdout",
     "output_type": "stream",
     "text": [
      "Example 1:\n",
      "Accuracy: 73.47% (93991/127936 characters)\n",
      "Example 2:\n",
      "Accuracy: 73.71% (94307/127936 characters)\n",
      "Example 3:\n",
      "Accuracy: 73.37% (93873/127936 characters)\n",
      "Example 4:\n",
      "Accuracy: 74.00% (94674/127936 characters)\n",
      "Example 5:\n",
      "Accuracy: 73.37% (93867/127936 characters)\n",
      "Example 6:\n",
      "Accuracy: 73.46% (93976/127936 characters)\n",
      "Example 7:\n",
      "Accuracy: 74.12% (94832/127936 characters)\n",
      "Example 8:\n",
      "Accuracy: 73.31% (93792/127936 characters)\n",
      "Example 9:\n",
      "Accuracy: 73.59% (94146/127936 characters)\n",
      "Example 10:\n",
      "Accuracy: 73.59% (94144/127936 characters)\n"
     ]
    }
   ],
   "source": [
    "for i in range(len(input_sequences)):\n",
    "    print(f'Example {i+1}:')\n",
    "\n",
    "    overlap_length = predictions[i].shape[1]\n",
    "    input_overlap = input_sequences[i][:, 1:overlap_length]\n",
    "    predictions_overlap = predictions[i][:, :overlap_length-1 ]\n",
    "    correct_chars = np.sum(input_overlap == predictions_overlap)\n",
    "    total_chars = input_overlap.size\n",
    "    accuracy = correct_chars / total_chars\n",
    "\n",
    "    accuracy = correct_chars / total_chars * 100\n",
    "    print(f'Accuracy: {accuracy:.2f}% ({correct_chars}/{total_chars} characters)')"
   ]
  },
  {
   "cell_type": "code",
   "execution_count": 6,
   "metadata": {},
   "outputs": [
    {
     "name": "stderr",
     "output_type": "stream",
     "text": [
      "  0%|          | 0/21875 [00:00<?, ?it/s]"
     ]
    },
    {
     "name": "stderr",
     "output_type": "stream",
     "text": [
      "100%|██████████| 21875/21875 [04:02<00:00, 90.38it/s, loss=1.52e-8]"
     ]
    },
    {
     "name": "stdout",
     "output_type": "stream",
     "text": [
      "Average Loss: 1.7180524523934894e-08\n"
     ]
    },
    {
     "name": "stderr",
     "output_type": "stream",
     "text": [
      "\n"
     ]
    }
   ],
   "source": [
    "path = \"biLSTM_weights.pth\"\n",
    "model = biLSTM(vocab_size, embedding_size, hidden_size).to(device)\n",
    "model.load_state_dict(torch.load(path))\n",
    "\n",
    "total_loss = 0\n",
    "input_sequences = []\n",
    "predictions = []\n",
    "count = 0\n",
    "\n",
    "with torch.no_grad():\n",
    "    with tqdm(batches) as tqdm_iterator:\n",
    "        for sequences in tqdm_iterator:\n",
    "            sequences = sequences.to(device)\n",
    "            output, _ = model(sequences)\n",
    "            output = output.permute(0, 2, 1)\n",
    "            loss = criterion(output[:, :, :-1], sequences[:, 1:])\n",
    "            if count < 10:\n",
    "                  input_sequences.append(sequences.detach().cpu().numpy())\n",
    "                  predictions.append(output.argmax(dim=1).detach().cpu().numpy())\n",
    "\n",
    "            total_loss += loss.item()\n",
    "            count += 1\n",
    "\n",
    "            tqdm_iterator.set_postfix({\"loss\": loss.item()})\n",
    "\n",
    "avg_loss_biLstm = total_loss/len(batches)\n",
    "print(f'Average Loss: {avg_loss_biLstm}')"
   ]
  },
  {
   "cell_type": "code",
   "execution_count": 7,
   "metadata": {},
   "outputs": [
    {
     "name": "stdout",
     "output_type": "stream",
     "text": [
      "Example 1:\n",
      "Accuracy: 100.00% (127936/127936 characters)\n",
      "Example 2:\n",
      "Accuracy: 100.00% (127936/127936 characters)\n",
      "Example 3:\n",
      "Accuracy: 100.00% (127936/127936 characters)\n",
      "Example 4:\n",
      "Accuracy: 100.00% (127936/127936 characters)\n",
      "Example 5:\n",
      "Accuracy: 100.00% (127936/127936 characters)\n",
      "Example 6:\n",
      "Accuracy: 100.00% (127936/127936 characters)\n",
      "Example 7:\n",
      "Accuracy: 100.00% (127936/127936 characters)\n",
      "Example 8:\n",
      "Accuracy: 100.00% (127936/127936 characters)\n",
      "Example 9:\n",
      "Accuracy: 100.00% (127936/127936 characters)\n",
      "Example 10:\n",
      "Accuracy: 100.00% (127936/127936 characters)\n"
     ]
    }
   ],
   "source": [
    "for i in range(len(input_sequences)):\n",
    "    print(f'Example {i+1}:')\n",
    "\n",
    "    overlap_length = predictions[i].shape[1]\n",
    "    input_overlap = input_sequences[i][:, 1:overlap_length]\n",
    "    predictions_overlap = predictions[i][:, :overlap_length-1 ]\n",
    "    correct_chars = np.sum(input_overlap == predictions_overlap)\n",
    "    total_chars = input_overlap.size\n",
    "    accuracy = correct_chars / total_chars\n",
    "\n",
    "    accuracy = correct_chars / total_chars * 100\n",
    "    print(f'Accuracy: {accuracy:.2f}% ({correct_chars}/{total_chars} characters)')\n"
   ]
  }
 ],
 "metadata": {
  "kernelspec": {
   "display_name": "Python 3",
   "language": "python",
   "name": "python3"
  },
  "language_info": {
   "codemirror_mode": {
    "name": "ipython",
    "version": 3
   },
   "file_extension": ".py",
   "mimetype": "text/x-python",
   "name": "python",
   "nbconvert_exporter": "python",
   "pygments_lexer": "ipython3",
   "version": "3.11.5"
  }
 },
 "nbformat": 4,
 "nbformat_minor": 2
}
